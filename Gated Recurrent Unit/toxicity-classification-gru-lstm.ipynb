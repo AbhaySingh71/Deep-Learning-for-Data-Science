{
 "cells": [
  {
   "cell_type": "code",
   "execution_count": 1,
   "id": "revised-stress",
   "metadata": {
    "_cell_guid": "b1076dfc-b9ad-4769-8c92-a6c4dae69d19",
    "_uuid": "8f2839f25d086af736a60e9eeb907d3b93b6e0e5",
    "execution": {
     "iopub.execute_input": "2021-11-12T10:23:36.855771Z",
     "iopub.status.busy": "2021-11-12T10:23:36.855243Z",
     "iopub.status.idle": "2021-11-12T10:23:36.884782Z",
     "shell.execute_reply": "2021-11-12T10:23:36.884077Z",
     "shell.execute_reply.started": "2021-11-12T09:51:39.067191Z"
    },
    "papermill": {
     "duration": 0.066663,
     "end_time": "2021-11-12T10:23:36.884950",
     "exception": false,
     "start_time": "2021-11-12T10:23:36.818287",
     "status": "completed"
    },
    "tags": []
   },
   "outputs": [
    {
     "name": "stdout",
     "output_type": "stream",
     "text": [
      "/kaggle/input/jigsaw-unintended-bias-in-toxicity-classification/sample_submission.csv\n",
      "/kaggle/input/jigsaw-unintended-bias-in-toxicity-classification/all_data.csv\n",
      "/kaggle/input/jigsaw-unintended-bias-in-toxicity-classification/test_public_expanded.csv\n",
      "/kaggle/input/jigsaw-unintended-bias-in-toxicity-classification/test_private_expanded.csv\n",
      "/kaggle/input/jigsaw-unintended-bias-in-toxicity-classification/toxicity_individual_annotations.csv\n",
      "/kaggle/input/jigsaw-unintended-bias-in-toxicity-classification/train.csv\n",
      "/kaggle/input/jigsaw-unintended-bias-in-toxicity-classification/identity_individual_annotations.csv\n",
      "/kaggle/input/jigsaw-unintended-bias-in-toxicity-classification/test.csv\n",
      "/kaggle/input/pickled-glove840b300d-for-10sec-loading/glove.840B.300d.pkl\n"
     ]
    }
   ],
   "source": [
    "import numpy as np # linear algebra\n",
    "import pandas as pd # data processing, CSV file I/O (e.g. pd.read_csv)\n",
    "\n",
    "import os\n",
    "for dirname, _, filenames in os.walk('/kaggle/input'):\n",
    "    for filename in filenames:\n",
    "        print(os.path.join(dirname, filename))"
   ]
  },
  {
   "cell_type": "markdown",
   "id": "dense-enough",
   "metadata": {
    "papermill": {
     "duration": 0.026635,
     "end_time": "2021-11-12T10:23:36.938674",
     "exception": false,
     "start_time": "2021-11-12T10:23:36.912039",
     "status": "completed"
    },
    "tags": []
   },
   "source": [
    "# Data Exploration"
   ]
  },
  {
   "cell_type": "code",
   "execution_count": 2,
   "id": "higher-right",
   "metadata": {
    "execution": {
     "iopub.execute_input": "2021-11-12T10:23:36.999443Z",
     "iopub.status.busy": "2021-11-12T10:23:36.998882Z",
     "iopub.status.idle": "2021-11-12T10:23:56.306955Z",
     "shell.execute_reply": "2021-11-12T10:23:56.306422Z",
     "shell.execute_reply.started": "2021-11-12T09:51:42.753809Z"
    },
    "papermill": {
     "duration": 19.341784,
     "end_time": "2021-11-12T10:23:56.307083",
     "exception": false,
     "start_time": "2021-11-12T10:23:36.965299",
     "status": "completed"
    },
    "tags": []
   },
   "outputs": [],
   "source": [
    "train = pd.read_csv(\"../input/jigsaw-unintended-bias-in-toxicity-classification/train.csv\")\n",
    "test = pd.read_csv(\"../input/jigsaw-unintended-bias-in-toxicity-classification/test.csv\")"
   ]
  },
  {
   "cell_type": "code",
   "execution_count": 3,
   "id": "canadian-indonesia",
   "metadata": {
    "execution": {
     "iopub.execute_input": "2021-11-12T10:23:56.387005Z",
     "iopub.status.busy": "2021-11-12T10:23:56.380266Z",
     "iopub.status.idle": "2021-11-12T10:23:56.392088Z",
     "shell.execute_reply": "2021-11-12T10:23:56.391494Z",
     "shell.execute_reply.started": "2021-11-12T09:53:10.356972Z"
    },
    "papermill": {
     "duration": 0.057649,
     "end_time": "2021-11-12T10:23:56.392236",
     "exception": false,
     "start_time": "2021-11-12T10:23:56.334587",
     "status": "completed"
    },
    "tags": []
   },
   "outputs": [
    {
     "name": "stdout",
     "output_type": "stream",
     "text": [
      "<class 'pandas.core.frame.DataFrame'>\n",
      "RangeIndex: 1804874 entries, 0 to 1804873\n",
      "Data columns (total 45 columns):\n",
      " #   Column                               Dtype  \n",
      "---  ------                               -----  \n",
      " 0   id                                   int64  \n",
      " 1   target                               float64\n",
      " 2   comment_text                         object \n",
      " 3   severe_toxicity                      float64\n",
      " 4   obscene                              float64\n",
      " 5   identity_attack                      float64\n",
      " 6   insult                               float64\n",
      " 7   threat                               float64\n",
      " 8   asian                                float64\n",
      " 9   atheist                              float64\n",
      " 10  bisexual                             float64\n",
      " 11  black                                float64\n",
      " 12  buddhist                             float64\n",
      " 13  christian                            float64\n",
      " 14  female                               float64\n",
      " 15  heterosexual                         float64\n",
      " 16  hindu                                float64\n",
      " 17  homosexual_gay_or_lesbian            float64\n",
      " 18  intellectual_or_learning_disability  float64\n",
      " 19  jewish                               float64\n",
      " 20  latino                               float64\n",
      " 21  male                                 float64\n",
      " 22  muslim                               float64\n",
      " 23  other_disability                     float64\n",
      " 24  other_gender                         float64\n",
      " 25  other_race_or_ethnicity              float64\n",
      " 26  other_religion                       float64\n",
      " 27  other_sexual_orientation             float64\n",
      " 28  physical_disability                  float64\n",
      " 29  psychiatric_or_mental_illness        float64\n",
      " 30  transgender                          float64\n",
      " 31  white                                float64\n",
      " 32  created_date                         object \n",
      " 33  publication_id                       int64  \n",
      " 34  parent_id                            float64\n",
      " 35  article_id                           int64  \n",
      " 36  rating                               object \n",
      " 37  funny                                int64  \n",
      " 38  wow                                  int64  \n",
      " 39  sad                                  int64  \n",
      " 40  likes                                int64  \n",
      " 41  disagree                             int64  \n",
      " 42  sexual_explicit                      float64\n",
      " 43  identity_annotator_count             int64  \n",
      " 44  toxicity_annotator_count             int64  \n",
      "dtypes: float64(32), int64(10), object(3)\n",
      "memory usage: 619.7+ MB\n"
     ]
    }
   ],
   "source": [
    "train.info()"
   ]
  },
  {
   "cell_type": "markdown",
   "id": "front-agreement",
   "metadata": {
    "papermill": {
     "duration": 0.032362,
     "end_time": "2021-11-12T10:23:56.452959",
     "exception": false,
     "start_time": "2021-11-12T10:23:56.420597",
     "status": "completed"
    },
    "tags": []
   },
   "source": [
    "## Text Cleaning and Preprocessing"
   ]
  },
  {
   "cell_type": "code",
   "execution_count": 4,
   "id": "later-myrtle",
   "metadata": {
    "execution": {
     "iopub.execute_input": "2021-11-12T10:23:56.519116Z",
     "iopub.status.busy": "2021-11-12T10:23:56.518458Z",
     "iopub.status.idle": "2021-11-12T10:24:04.284806Z",
     "shell.execute_reply": "2021-11-12T10:24:04.283812Z",
     "shell.execute_reply.started": "2021-11-12T09:53:15.470557Z"
    },
    "papermill": {
     "duration": 7.800783,
     "end_time": "2021-11-12T10:24:04.284943",
     "exception": false,
     "start_time": "2021-11-12T10:23:56.484160",
     "status": "completed"
    },
    "tags": []
   },
   "outputs": [
    {
     "name": "stdout",
     "output_type": "stream",
     "text": [
      "Collecting BeautifulSoup4\r\n",
      "  Downloading beautifulsoup4-4.10.0-py3-none-any.whl (97 kB)\r\n",
      "\u001b[K     |████████████████████████████████| 97 kB 1.8 MB/s \r\n",
      "\u001b[?25hCollecting soupsieve>1.2\r\n",
      "  Downloading soupsieve-2.3.1-py3-none-any.whl (37 kB)\r\n",
      "Installing collected packages: soupsieve, BeautifulSoup4\r\n",
      "Successfully installed BeautifulSoup4-4.10.0 soupsieve-2.3.1\r\n"
     ]
    }
   ],
   "source": [
    "!pip install BeautifulSoup4"
   ]
  },
  {
   "cell_type": "markdown",
   "id": "fixed-devices",
   "metadata": {
    "papermill": {
     "duration": 0.028414,
     "end_time": "2021-11-12T10:24:04.342560",
     "exception": false,
     "start_time": "2021-11-12T10:24:04.314146",
     "status": "completed"
    },
    "tags": []
   },
   "source": [
    "## Sampling from the data"
   ]
  },
  {
   "cell_type": "code",
   "execution_count": 5,
   "id": "anticipated-committee",
   "metadata": {
    "execution": {
     "iopub.execute_input": "2021-11-12T10:24:04.405676Z",
     "iopub.status.busy": "2021-11-12T10:24:04.404792Z",
     "iopub.status.idle": "2021-11-12T10:24:04.778452Z",
     "shell.execute_reply": "2021-11-12T10:24:04.777939Z",
     "shell.execute_reply.started": "2021-11-12T09:03:13.678376Z"
    },
    "papermill": {
     "duration": 0.407159,
     "end_time": "2021-11-12T10:24:04.778596",
     "exception": false,
     "start_time": "2021-11-12T10:24:04.371437",
     "status": "completed"
    },
    "tags": []
   },
   "outputs": [],
   "source": [
    "train_sample = train.sample(frac = 0.1, random_state = 42, axis = 'index')"
   ]
  },
  {
   "cell_type": "markdown",
   "id": "retired-dance",
   "metadata": {
    "papermill": {
     "duration": 0.028068,
     "end_time": "2021-11-12T10:24:04.836547",
     "exception": false,
     "start_time": "2021-11-12T10:24:04.808479",
     "status": "completed"
    },
    "tags": []
   },
   "source": [
    "## Text Cleaning"
   ]
  },
  {
   "cell_type": "code",
   "execution_count": 6,
   "id": "sublime-sucking",
   "metadata": {
    "execution": {
     "iopub.execute_input": "2021-11-12T10:24:04.906197Z",
     "iopub.status.busy": "2021-11-12T10:24:04.905238Z",
     "iopub.status.idle": "2021-11-12T10:24:06.370730Z",
     "shell.execute_reply": "2021-11-12T10:24:06.370246Z",
     "shell.execute_reply.started": "2021-11-12T09:53:30.599932Z"
    },
    "papermill": {
     "duration": 1.505849,
     "end_time": "2021-11-12T10:24:06.370867",
     "exception": false,
     "start_time": "2021-11-12T10:24:04.865018",
     "status": "completed"
    },
    "tags": []
   },
   "outputs": [],
   "source": [
    "from bs4 import BeautifulSoup # Text Cleaning\n",
    "import re, string # Regular Expressions, String\n",
    "from nltk.corpus import stopwords # stopwords\n",
    "from nltk.stem.porter import PorterStemmer # for word stemming\n",
    "from nltk.stem import WordNetLemmatizer # for word lemmatization\n",
    "import unicodedata\n",
    "import html\n",
    "\n",
    "# set of stopwords to be removed from text\n",
    "stop = set(stopwords.words('english'))\n",
    "\n",
    "# update stopwords to have punctuation too\n",
    "stop.update(list(string.punctuation))\n",
    "\n",
    "def clean_text(text):\n",
    "    \n",
    "    # Remove unwanted html characters\n",
    "    re1 = re.compile(r'  +')\n",
    "    x1 = text.lower().replace('#39;', \"'\").replace('amp;', '&').replace('#146;', \"'\").replace(\n",
    "    'nbsp;', ' ').replace('#36;', '$').replace('\\\\n', \"\\n\").replace('quot;', \"'\").replace(\n",
    "    '<br />', \"\\n\").replace('\\\\\"', '\"').replace('<unk>', 'u_n').replace(' @.@ ', '.').replace(\n",
    "    ' @-@ ', '-').replace('\\\\', ' \\\\ ')\n",
    "    text = re1.sub(' ', html.unescape(x1))\n",
    "    \n",
    "    # remove non-ascii characters\n",
    "    text = unicodedata.normalize('NFKD', text).encode('ascii', 'ignore').decode('utf-8', 'ignore')\n",
    "    \n",
    "#     # strip html\n",
    "#     soup = BeautifulSoup(text, 'html.parser')\n",
    "#     text = soup.get_text()\n",
    "    \n",
    "    # remove between square brackets\n",
    "    text = re.sub('\\[[^]]*\\]', '', text)\n",
    "    \n",
    "    # remove URLs\n",
    "    text = re.sub(r'http\\S+', '', text)\n",
    "    \n",
    "    # remove twitter tags\n",
    "    text = text.replace(\"@\", \"\")\n",
    "    \n",
    "    # remove hashtags\n",
    "    text = text.replace(\"#\", \"\")\n",
    "    \n",
    "    # remove all non-alphabetic characters\n",
    "    text = re.sub(r'[^a-zA-Z ]', '', text)\n",
    "    \n",
    "    # remove stopwords from text\n",
    "    final_text = []\n",
    "    for word in text.split():\n",
    "        if word.strip().lower() not in stop:\n",
    "            final_text.append(word.strip().lower())\n",
    "    \n",
    "    text = \" \".join(final_text)\n",
    "    \n",
    "    # lemmatize words\n",
    "    lemmatizer = WordNetLemmatizer()    \n",
    "    text = \" \".join([lemmatizer.lemmatize(word) for word in text.split()])\n",
    "    text = \" \".join([lemmatizer.lemmatize(word, pos = 'v') for word in text.split()])\n",
    "    \n",
    "    # replace all numbers with \"num\"\n",
    "    text = re.sub(\"\\d\", \"num\", text)\n",
    "    \n",
    "    return text.lower()"
   ]
  },
  {
   "cell_type": "code",
   "execution_count": 7,
   "id": "ecological-cleanup",
   "metadata": {
    "execution": {
     "iopub.execute_input": "2021-11-12T10:24:06.433553Z",
     "iopub.status.busy": "2021-11-12T10:24:06.432912Z",
     "iopub.status.idle": "2021-11-12T10:24:07.093805Z",
     "shell.execute_reply": "2021-11-12T10:24:07.093251Z",
     "shell.execute_reply.started": "2021-11-12T09:53:38.346636Z"
    },
    "papermill": {
     "duration": 0.694297,
     "end_time": "2021-11-12T10:24:07.093956",
     "exception": false,
     "start_time": "2021-11-12T10:24:06.399659",
     "status": "completed"
    },
    "tags": []
   },
   "outputs": [],
   "source": [
    "train_data = train\n",
    "train_data['threat'] = np.where(train_data['threat'] >= .25, 1, 0)\n",
    "train_data['severe_toxicity'] = np.where(train_data['severe_toxicity'] >= .25, 1, 0)\n",
    "train_data['insult'] = np.where(train_data['insult'] >= .25, 1, 0)\n",
    "train_data['obscene'] = np.where(train_data['obscene'] >= .25, 1, 0)\n",
    "train_data['identity_attack'] = np.where(train_data['identity_attack'] >= .25, 1, 0)"
   ]
  },
  {
   "cell_type": "code",
   "execution_count": 8,
   "id": "empty-familiar",
   "metadata": {
    "execution": {
     "iopub.execute_input": "2021-11-12T10:24:07.156383Z",
     "iopub.status.busy": "2021-11-12T10:24:07.155506Z",
     "iopub.status.idle": "2021-11-12T10:24:07.158117Z",
     "shell.execute_reply": "2021-11-12T10:24:07.158504Z",
     "shell.execute_reply.started": "2021-11-12T09:53:41.975931Z"
    },
    "papermill": {
     "duration": 0.035652,
     "end_time": "2021-11-12T10:24:07.158645",
     "exception": false,
     "start_time": "2021-11-12T10:24:07.122993",
     "status": "completed"
    },
    "tags": []
   },
   "outputs": [],
   "source": [
    "possible_labels = [\"comment_text\",\"target\",\"severe_toxicity\", \"obscene\", \"threat\", \"insult\", \"identity_attack\"]"
   ]
  },
  {
   "cell_type": "code",
   "execution_count": 9,
   "id": "documented-allah",
   "metadata": {
    "execution": {
     "iopub.execute_input": "2021-11-12T10:24:07.222245Z",
     "iopub.status.busy": "2021-11-12T10:24:07.221122Z",
     "iopub.status.idle": "2021-11-12T10:24:07.568795Z",
     "shell.execute_reply": "2021-11-12T10:24:07.568084Z",
     "shell.execute_reply.started": "2021-11-12T09:54:03.769989Z"
    },
    "papermill": {
     "duration": 0.380724,
     "end_time": "2021-11-12T10:24:07.568948",
     "exception": false,
     "start_time": "2021-11-12T10:24:07.188224",
     "status": "completed"
    },
    "tags": []
   },
   "outputs": [
    {
     "data": {
      "text/html": [
       "<div>\n",
       "<style scoped>\n",
       "    .dataframe tbody tr th:only-of-type {\n",
       "        vertical-align: middle;\n",
       "    }\n",
       "\n",
       "    .dataframe tbody tr th {\n",
       "        vertical-align: top;\n",
       "    }\n",
       "\n",
       "    .dataframe thead th {\n",
       "        text-align: right;\n",
       "    }\n",
       "</style>\n",
       "<table border=\"1\" class=\"dataframe\">\n",
       "  <thead>\n",
       "    <tr style=\"text-align: right;\">\n",
       "      <th></th>\n",
       "      <th>comment_text</th>\n",
       "      <th>target</th>\n",
       "      <th>severe_toxicity</th>\n",
       "      <th>obscene</th>\n",
       "      <th>threat</th>\n",
       "      <th>insult</th>\n",
       "      <th>identity_attack</th>\n",
       "    </tr>\n",
       "  </thead>\n",
       "  <tbody>\n",
       "    <tr>\n",
       "      <th>4</th>\n",
       "      <td>haha you guys are a bunch of losers.</td>\n",
       "      <td>0.893617</td>\n",
       "      <td>0</td>\n",
       "      <td>0</td>\n",
       "      <td>0</td>\n",
       "      <td>1</td>\n",
       "      <td>0</td>\n",
       "    </tr>\n",
       "    <tr>\n",
       "      <th>5</th>\n",
       "      <td>ur a sh*tty comment.</td>\n",
       "      <td>0.666667</td>\n",
       "      <td>0</td>\n",
       "      <td>1</td>\n",
       "      <td>0</td>\n",
       "      <td>1</td>\n",
       "      <td>0</td>\n",
       "    </tr>\n",
       "    <tr>\n",
       "      <th>13</th>\n",
       "      <td>It's ridiculous that these guys are being call...</td>\n",
       "      <td>0.600000</td>\n",
       "      <td>0</td>\n",
       "      <td>0</td>\n",
       "      <td>0</td>\n",
       "      <td>1</td>\n",
       "      <td>0</td>\n",
       "    </tr>\n",
       "    <tr>\n",
       "      <th>14</th>\n",
       "      <td>This story gets more ridiculous by the hour! A...</td>\n",
       "      <td>0.500000</td>\n",
       "      <td>0</td>\n",
       "      <td>0</td>\n",
       "      <td>0</td>\n",
       "      <td>1</td>\n",
       "      <td>0</td>\n",
       "    </tr>\n",
       "    <tr>\n",
       "      <th>19</th>\n",
       "      <td>Angry trolls, misogynists and Racists\", oh my....</td>\n",
       "      <td>0.500000</td>\n",
       "      <td>0</td>\n",
       "      <td>0</td>\n",
       "      <td>0</td>\n",
       "      <td>1</td>\n",
       "      <td>0</td>\n",
       "    </tr>\n",
       "  </tbody>\n",
       "</table>\n",
       "</div>"
      ],
      "text/plain": [
       "                                         comment_text    target  \\\n",
       "4                haha you guys are a bunch of losers.  0.893617   \n",
       "5                                ur a sh*tty comment.  0.666667   \n",
       "13  It's ridiculous that these guys are being call...  0.600000   \n",
       "14  This story gets more ridiculous by the hour! A...  0.500000   \n",
       "19  Angry trolls, misogynists and Racists\", oh my....  0.500000   \n",
       "\n",
       "    severe_toxicity  obscene  threat  insult  identity_attack  \n",
       "4                 0        0       0       1                0  \n",
       "5                 0        1       0       1                0  \n",
       "13                0        0       0       1                0  \n",
       "14                0        0       0       1                0  \n",
       "19                0        0       0       1                0  "
      ]
     },
     "execution_count": 9,
     "metadata": {},
     "output_type": "execute_result"
    }
   ],
   "source": [
    "train_data_final = train_data[possible_labels]\n",
    "train_data_final = train_data_final[(train_data_final['target']>=.5)]\n",
    "train_data_final.head()"
   ]
  },
  {
   "cell_type": "code",
   "execution_count": 10,
   "id": "flying-stamp",
   "metadata": {
    "execution": {
     "iopub.execute_input": "2021-11-12T10:24:07.640872Z",
     "iopub.status.busy": "2021-11-12T10:24:07.631588Z",
     "iopub.status.idle": "2021-11-12T10:24:07.671655Z",
     "shell.execute_reply": "2021-11-12T10:24:07.671181Z",
     "shell.execute_reply.started": "2021-11-12T09:54:10.750063Z"
    },
    "papermill": {
     "duration": 0.073187,
     "end_time": "2021-11-12T10:24:07.671793",
     "exception": false,
     "start_time": "2021-11-12T10:24:07.598606",
     "status": "completed"
    },
    "tags": []
   },
   "outputs": [],
   "source": [
    "possible_labels1 = [\"severe_toxicity\", \"obscene\", \"threat\", \"insult\", \"identity_attack\"]\n",
    "targets = train_data_final[possible_labels].values"
   ]
  },
  {
   "cell_type": "code",
   "execution_count": 11,
   "id": "molecular-archives",
   "metadata": {
    "execution": {
     "iopub.execute_input": "2021-11-12T10:24:07.734456Z",
     "iopub.status.busy": "2021-11-12T10:24:07.733720Z",
     "iopub.status.idle": "2021-11-12T10:24:07.737444Z",
     "shell.execute_reply": "2021-11-12T10:24:07.736986Z",
     "shell.execute_reply.started": "2021-11-12T09:54:14.709501Z"
    },
    "papermill": {
     "duration": 0.036554,
     "end_time": "2021-11-12T10:24:07.737554",
     "exception": false,
     "start_time": "2021-11-12T10:24:07.701000",
     "status": "completed"
    },
    "tags": []
   },
   "outputs": [
    {
     "data": {
      "text/plain": [
       "144334"
      ]
     },
     "execution_count": 11,
     "metadata": {},
     "output_type": "execute_result"
    }
   ],
   "source": [
    "len(train_data_final)"
   ]
  },
  {
   "cell_type": "code",
   "execution_count": 12,
   "id": "irish-partnership",
   "metadata": {
    "execution": {
     "iopub.execute_input": "2021-11-12T10:24:07.802597Z",
     "iopub.status.busy": "2021-11-12T10:24:07.801948Z",
     "iopub.status.idle": "2021-11-12T10:24:50.567384Z",
     "shell.execute_reply": "2021-11-12T10:24:50.566815Z",
     "shell.execute_reply.started": "2021-11-12T09:54:19.082033Z"
    },
    "papermill": {
     "duration": 42.801033,
     "end_time": "2021-11-12T10:24:50.567540",
     "exception": false,
     "start_time": "2021-11-12T10:24:07.766507",
     "status": "completed"
    },
    "tags": []
   },
   "outputs": [],
   "source": [
    "train_data_final['clean_comment_text'] = train_data_final['comment_text'].apply(clean_text)"
   ]
  },
  {
   "cell_type": "code",
   "execution_count": 13,
   "id": "neural-premiere",
   "metadata": {
    "execution": {
     "iopub.execute_input": "2021-11-12T10:24:50.638271Z",
     "iopub.status.busy": "2021-11-12T10:24:50.637466Z",
     "iopub.status.idle": "2021-11-12T10:24:50.642913Z",
     "shell.execute_reply": "2021-11-12T10:24:50.642445Z",
     "shell.execute_reply.started": "2021-11-12T09:55:52.910679Z"
    },
    "papermill": {
     "duration": 0.04507,
     "end_time": "2021-11-12T10:24:50.643025",
     "exception": false,
     "start_time": "2021-11-12T10:24:50.597955",
     "status": "completed"
    },
    "tags": []
   },
   "outputs": [
    {
     "data": {
      "text/html": [
       "<div>\n",
       "<style scoped>\n",
       "    .dataframe tbody tr th:only-of-type {\n",
       "        vertical-align: middle;\n",
       "    }\n",
       "\n",
       "    .dataframe tbody tr th {\n",
       "        vertical-align: top;\n",
       "    }\n",
       "\n",
       "    .dataframe thead th {\n",
       "        text-align: right;\n",
       "    }\n",
       "</style>\n",
       "<table border=\"1\" class=\"dataframe\">\n",
       "  <thead>\n",
       "    <tr style=\"text-align: right;\">\n",
       "      <th></th>\n",
       "      <th>comment_text</th>\n",
       "      <th>target</th>\n",
       "      <th>severe_toxicity</th>\n",
       "      <th>obscene</th>\n",
       "      <th>threat</th>\n",
       "      <th>insult</th>\n",
       "      <th>identity_attack</th>\n",
       "      <th>clean_comment_text</th>\n",
       "    </tr>\n",
       "  </thead>\n",
       "  <tbody>\n",
       "    <tr>\n",
       "      <th>4</th>\n",
       "      <td>haha you guys are a bunch of losers.</td>\n",
       "      <td>0.893617</td>\n",
       "      <td>0</td>\n",
       "      <td>0</td>\n",
       "      <td>0</td>\n",
       "      <td>1</td>\n",
       "      <td>0</td>\n",
       "      <td>haha guy bunch loser</td>\n",
       "    </tr>\n",
       "    <tr>\n",
       "      <th>5</th>\n",
       "      <td>ur a sh*tty comment.</td>\n",
       "      <td>0.666667</td>\n",
       "      <td>0</td>\n",
       "      <td>1</td>\n",
       "      <td>0</td>\n",
       "      <td>1</td>\n",
       "      <td>0</td>\n",
       "      <td>ur shtty comment</td>\n",
       "    </tr>\n",
       "    <tr>\n",
       "      <th>13</th>\n",
       "      <td>It's ridiculous that these guys are being call...</td>\n",
       "      <td>0.600000</td>\n",
       "      <td>0</td>\n",
       "      <td>0</td>\n",
       "      <td>0</td>\n",
       "      <td>1</td>\n",
       "      <td>0</td>\n",
       "      <td>ridiculous guy call protester arm threat viole...</td>\n",
       "    </tr>\n",
       "    <tr>\n",
       "      <th>14</th>\n",
       "      <td>This story gets more ridiculous by the hour! A...</td>\n",
       "      <td>0.500000</td>\n",
       "      <td>0</td>\n",
       "      <td>0</td>\n",
       "      <td>0</td>\n",
       "      <td>1</td>\n",
       "      <td>0</td>\n",
       "      <td>story get ridiculous hour love people send guy...</td>\n",
       "    </tr>\n",
       "    <tr>\n",
       "      <th>19</th>\n",
       "      <td>Angry trolls, misogynists and Racists\", oh my....</td>\n",
       "      <td>0.500000</td>\n",
       "      <td>0</td>\n",
       "      <td>0</td>\n",
       "      <td>0</td>\n",
       "      <td>1</td>\n",
       "      <td>0</td>\n",
       "      <td>angry troll misogynist racist oh doesnt take i...</td>\n",
       "    </tr>\n",
       "  </tbody>\n",
       "</table>\n",
       "</div>"
      ],
      "text/plain": [
       "                                         comment_text    target  \\\n",
       "4                haha you guys are a bunch of losers.  0.893617   \n",
       "5                                ur a sh*tty comment.  0.666667   \n",
       "13  It's ridiculous that these guys are being call...  0.600000   \n",
       "14  This story gets more ridiculous by the hour! A...  0.500000   \n",
       "19  Angry trolls, misogynists and Racists\", oh my....  0.500000   \n",
       "\n",
       "    severe_toxicity  obscene  threat  insult  identity_attack  \\\n",
       "4                 0        0       0       1                0   \n",
       "5                 0        1       0       1                0   \n",
       "13                0        0       0       1                0   \n",
       "14                0        0       0       1                0   \n",
       "19                0        0       0       1                0   \n",
       "\n",
       "                                   clean_comment_text  \n",
       "4                                haha guy bunch loser  \n",
       "5                                    ur shtty comment  \n",
       "13  ridiculous guy call protester arm threat viole...  \n",
       "14  story get ridiculous hour love people send guy...  \n",
       "19  angry troll misogynist racist oh doesnt take i...  "
      ]
     },
     "execution_count": 13,
     "metadata": {},
     "output_type": "execute_result"
    }
   ],
   "source": [
    "train_data_final.head(5)"
   ]
  },
  {
   "cell_type": "markdown",
   "id": "french-medicare",
   "metadata": {
    "papermill": {
     "duration": 0.028935,
     "end_time": "2021-11-12T10:24:50.700973",
     "exception": false,
     "start_time": "2021-11-12T10:24:50.672038",
     "status": "completed"
    },
    "tags": []
   },
   "source": [
    "## Sequence Length Analysis"
   ]
  },
  {
   "cell_type": "code",
   "execution_count": 14,
   "id": "employed-nutrition",
   "metadata": {
    "execution": {
     "iopub.execute_input": "2021-11-12T10:24:50.778300Z",
     "iopub.status.busy": "2021-11-12T10:24:50.777551Z",
     "iopub.status.idle": "2021-11-12T10:24:52.481397Z",
     "shell.execute_reply": "2021-11-12T10:24:52.480904Z",
     "shell.execute_reply.started": "2021-11-12T09:57:01.082991Z"
    },
    "papermill": {
     "duration": 1.751579,
     "end_time": "2021-11-12T10:24:52.481523",
     "exception": false,
     "start_time": "2021-11-12T10:24:50.729944",
     "status": "completed"
    },
    "tags": []
   },
   "outputs": [
    {
     "data": {
      "text/plain": [
       "(array([1.03073e+05, 2.78780e+04, 1.18550e+04, 1.52700e+03, 0.00000e+00,\n",
       "        0.00000e+00, 0.00000e+00, 0.00000e+00, 0.00000e+00, 1.00000e+00]),\n",
       " array([  0. ,  30.4,  60.8,  91.2, 121.6, 152. , 182.4, 212.8, 243.2,\n",
       "        273.6, 304. ]),\n",
       " <BarContainer object of 10 artists>)"
      ]
     },
     "execution_count": 14,
     "metadata": {},
     "output_type": "execute_result"
    },
    {
     "data": {
      "image/png": "[encoded data removed]",
      "text/plain": [
       "<Figure size 432x288 with 1 Axes>"
      ]
     },
     "metadata": {
      "needs_background": "light"
     },
     "output_type": "display_data"
    }
   ],
   "source": [
    "#data visualization library\n",
    "import matplotlib.pyplot as plt\n",
    "plt.hist(list(train_data_final['clean_comment_text'].str.split().map(lambda x: len(x))))"
   ]
  },
  {
   "cell_type": "code",
   "execution_count": 15,
   "id": "alive-intro",
   "metadata": {
    "execution": {
     "iopub.execute_input": "2021-11-12T10:24:52.563515Z",
     "iopub.status.busy": "2021-11-12T10:24:52.562588Z",
     "iopub.status.idle": "2021-11-12T10:24:53.369888Z",
     "shell.execute_reply": "2021-11-12T10:24:53.369091Z",
     "shell.execute_reply.started": "2021-11-12T09:57:06.195560Z"
    },
    "papermill": {
     "duration": 0.857087,
     "end_time": "2021-11-12T10:24:53.370019",
     "exception": false,
     "start_time": "2021-11-12T10:24:52.512932",
     "status": "completed"
    },
    "tags": []
   },
   "outputs": [
    {
     "data": {
      "text/plain": [
       "18.0"
      ]
     },
     "execution_count": 15,
     "metadata": {},
     "output_type": "execute_result"
    }
   ],
   "source": [
    "np.median(np.array(train_data_final['clean_comment_text'].str.split().map(lambda x: len(x))))"
   ]
  },
  {
   "cell_type": "markdown",
   "id": "electrical-garage",
   "metadata": {
    "papermill": {
     "duration": 0.031061,
     "end_time": "2021-11-12T10:24:53.431771",
     "exception": false,
     "start_time": "2021-11-12T10:24:53.400710",
     "status": "completed"
    },
    "tags": []
   },
   "source": [
    "# Text Representation"
   ]
  },
  {
   "cell_type": "markdown",
   "id": "banned-defensive",
   "metadata": {
    "papermill": {
     "duration": 0.029998,
     "end_time": "2021-11-12T10:24:53.492078",
     "exception": false,
     "start_time": "2021-11-12T10:24:53.462080",
     "status": "completed"
    },
    "tags": []
   },
   "source": [
    "## Loading the embedding matrix"
   ]
  },
  {
   "cell_type": "code",
   "execution_count": 16,
   "id": "played-beauty",
   "metadata": {
    "execution": {
     "iopub.execute_input": "2021-11-12T10:24:53.556559Z",
     "iopub.status.busy": "2021-11-12T10:24:53.556059Z",
     "iopub.status.idle": "2021-11-12T10:25:32.636592Z",
     "shell.execute_reply": "2021-11-12T10:25:32.637764Z",
     "shell.execute_reply.started": "2021-11-12T09:57:11.781386Z"
    },
    "papermill": {
     "duration": 39.11559,
     "end_time": "2021-11-12T10:25:32.637980",
     "exception": false,
     "start_time": "2021-11-12T10:24:53.522390",
     "status": "completed"
    },
    "tags": []
   },
   "outputs": [],
   "source": [
    "embedding_dict = pd.read_pickle('../input/pickled-glove840b300d-for-10sec-loading/glove.840B.300d.pkl')"
   ]
  },
  {
   "cell_type": "markdown",
   "id": "uniform-working",
   "metadata": {
    "papermill": {
     "duration": 0.051346,
     "end_time": "2021-11-12T10:25:32.741342",
     "exception": false,
     "start_time": "2021-11-12T10:25:32.689996",
     "status": "completed"
    },
    "tags": []
   },
   "source": [
    "## Text Tokenization as Sequences"
   ]
  },
  {
   "cell_type": "code",
   "execution_count": 17,
   "id": "favorite-retirement",
   "metadata": {
    "execution": {
     "iopub.execute_input": "2021-11-12T10:25:32.808099Z",
     "iopub.status.busy": "2021-11-12T10:25:32.807397Z",
     "iopub.status.idle": "2021-11-12T10:25:44.906217Z",
     "shell.execute_reply": "2021-11-12T10:25:44.906781Z",
     "shell.execute_reply.started": "2021-11-12T09:57:53.424401Z"
    },
    "papermill": {
     "duration": 12.134842,
     "end_time": "2021-11-12T10:25:44.906979",
     "exception": false,
     "start_time": "2021-11-12T10:25:32.772137",
     "status": "completed"
    },
    "tags": []
   },
   "outputs": [
    {
     "name": "stdout",
     "output_type": "stream",
     "text": [
      "X_train shape: (144334, 18)\n"
     ]
    }
   ],
   "source": [
    "# Sequences creation, truncation and padding\n",
    "\n",
    "from keras.preprocessing.text import Tokenizer\n",
    "from keras.preprocessing.sequence import pad_sequences\n",
    "\n",
    "# Setting up the tokenizer\n",
    "vocab_size = 10000\n",
    "tokenizer = Tokenizer(num_words = vocab_size, oov_token = 'UNK')\n",
    "tokenizer.fit_on_texts(list(train_data_final['clean_comment_text']))\n",
    "\n",
    "max_len = 18\n",
    "X_train_seq = tokenizer.texts_to_sequences(train_data_final['clean_comment_text'])\n",
    "\n",
    "X_train_seq = pad_sequences(X_train_seq, maxlen = max_len, truncating = 'post', padding = 'post')\n",
    "#X_test_seq = pad_sequences(X_test_seq, maxlen = max_len, truncating = 'post', padding = 'post')\n",
    "\n",
    "\n",
    "print(f\"X_train shape: {X_train_seq.shape}\")\n"
   ]
  },
  {
   "cell_type": "code",
   "execution_count": 18,
   "id": "canadian-render",
   "metadata": {
    "execution": {
     "iopub.execute_input": "2021-11-12T10:25:44.974046Z",
     "iopub.status.busy": "2021-11-12T10:25:44.973295Z",
     "iopub.status.idle": "2021-11-12T10:25:45.003900Z",
     "shell.execute_reply": "2021-11-12T10:25:45.003147Z",
     "shell.execute_reply.started": "2021-11-12T09:58:11.633923Z"
    },
    "papermill": {
     "duration": 0.065082,
     "end_time": "2021-11-12T10:25:45.004021",
     "exception": false,
     "start_time": "2021-11-12T10:25:44.938939",
     "status": "completed"
    },
    "tags": []
   },
   "outputs": [
    {
     "name": "stdout",
     "output_type": "stream",
     "text": [
      "y_train shape: (144334, 5)\n"
     ]
    }
   ],
   "source": [
    "y_train = np.array(train_data_final[possible_labels1]).astype(int)\n",
    "print(f\"y_train shape: {y_train.shape}\")"
   ]
  },
  {
   "cell_type": "markdown",
   "id": "fancy-virtue",
   "metadata": {
    "papermill": {
     "duration": 0.030635,
     "end_time": "2021-11-12T10:25:45.065555",
     "exception": false,
     "start_time": "2021-11-12T10:25:45.034920",
     "status": "completed"
    },
    "tags": []
   },
   "source": [
    "## Train Validation Split"
   ]
  },
  {
   "cell_type": "code",
   "execution_count": 19,
   "id": "infinite-netscape",
   "metadata": {
    "execution": {
     "iopub.execute_input": "2021-11-12T10:25:45.132223Z",
     "iopub.status.busy": "2021-11-12T10:25:45.131539Z",
     "iopub.status.idle": "2021-11-12T10:25:45.157703Z",
     "shell.execute_reply": "2021-11-12T10:25:45.157277Z",
     "shell.execute_reply.started": "2021-11-12T09:58:17.909775Z"
    },
    "papermill": {
     "duration": 0.061538,
     "end_time": "2021-11-12T10:25:45.157823",
     "exception": false,
     "start_time": "2021-11-12T10:25:45.096285",
     "status": "completed"
    },
    "tags": []
   },
   "outputs": [
    {
     "name": "stdout",
     "output_type": "stream",
     "text": [
      "X_train shape: (115467, 18)\n",
      "X_val shape: (28867, 18)\n",
      "y_train shape: (115467, 5)\n",
      "y_val shape: (28867, 5)\n"
     ]
    }
   ],
   "source": [
    "from sklearn.model_selection import train_test_split\n",
    "\n",
    "X_train_seq, X_val_seq, y_train, y_val = train_test_split(X_train_seq, y_train, test_size = 0.2, random_state = 42)\n",
    "\n",
    "print(f\"X_train shape: {X_train_seq.shape}\")\n",
    "print(f\"X_val shape: {X_val_seq.shape}\")\n",
    "print(f\"y_train shape: {y_train.shape}\")\n",
    "print(f\"y_val shape: {y_val.shape}\")"
   ]
  },
  {
   "cell_type": "code",
   "execution_count": 20,
   "id": "fewer-encoding",
   "metadata": {
    "execution": {
     "iopub.execute_input": "2021-11-12T10:25:45.224998Z",
     "iopub.status.busy": "2021-11-12T10:25:45.224314Z",
     "iopub.status.idle": "2021-11-12T10:25:45.227696Z",
     "shell.execute_reply": "2021-11-12T10:25:45.227175Z",
     "shell.execute_reply.started": "2021-11-12T09:58:23.205286Z"
    },
    "papermill": {
     "duration": 0.038039,
     "end_time": "2021-11-12T10:25:45.227801",
     "exception": false,
     "start_time": "2021-11-12T10:25:45.189762",
     "status": "completed"
    },
    "tags": []
   },
   "outputs": [
    {
     "name": "stdout",
     "output_type": "stream",
     "text": [
      "Number of unique words: 135845\n"
     ]
    }
   ],
   "source": [
    "num_words = len(tokenizer.word_index)\n",
    "print(f\"Number of unique words: {num_words}\")"
   ]
  },
  {
   "cell_type": "code",
   "execution_count": 21,
   "id": "adopted-simon",
   "metadata": {
    "execution": {
     "iopub.execute_input": "2021-11-12T10:25:45.294949Z",
     "iopub.status.busy": "2021-11-12T10:25:45.294181Z",
     "iopub.status.idle": "2021-11-12T10:25:45.556876Z",
     "shell.execute_reply": "2021-11-12T10:25:45.557264Z",
     "shell.execute_reply.started": "2021-11-12T09:58:26.574431Z"
    },
    "papermill": {
     "duration": 0.298469,
     "end_time": "2021-11-12T10:25:45.557416",
     "exception": false,
     "start_time": "2021-11-12T10:25:45.258947",
     "status": "completed"
    },
    "tags": []
   },
   "outputs": [
    {
     "data": {
      "text/plain": [
       "(135845, 300)"
      ]
     },
     "execution_count": 21,
     "metadata": {},
     "output_type": "execute_result"
    }
   ],
   "source": [
    "# Applying GloVE representations on our corpus\n",
    "\n",
    "embedding_matrix=np.zeros((num_words,300))\n",
    "\n",
    "for word,i in tokenizer.word_index.items():\n",
    "    if i < num_words:\n",
    "        emb_vec = embedding_dict.get(word)\n",
    "        if emb_vec is not None:\n",
    "            embedding_matrix[i] = emb_vec    \n",
    "            \n",
    "embedding_matrix.shape"
   ]
  },
  {
   "cell_type": "markdown",
   "id": "atomic-looking",
   "metadata": {
    "papermill": {
     "duration": 0.031248,
     "end_time": "2021-11-12T10:25:45.621186",
     "exception": false,
     "start_time": "2021-11-12T10:25:45.589938",
     "status": "completed"
    },
    "tags": []
   },
   "source": [
    "# Modeling"
   ]
  },
  {
   "cell_type": "markdown",
   "id": "distinguished-running",
   "metadata": {
    "papermill": {
     "duration": 0.031212,
     "end_time": "2021-11-12T10:25:45.683717",
     "exception": false,
     "start_time": "2021-11-12T10:25:45.652505",
     "status": "completed"
    },
    "tags": []
   },
   "source": [
    "## LSTM"
   ]
  },
  {
   "cell_type": "code",
   "execution_count": 22,
   "id": "laughing-looking",
   "metadata": {
    "execution": {
     "iopub.execute_input": "2021-11-12T10:25:45.752250Z",
     "iopub.status.busy": "2021-11-12T10:25:45.751589Z",
     "iopub.status.idle": "2021-11-12T10:25:45.755293Z",
     "shell.execute_reply": "2021-11-12T10:25:45.754868Z",
     "shell.execute_reply.started": "2021-11-12T09:58:39.454230Z"
    },
    "papermill": {
     "duration": 0.04014,
     "end_time": "2021-11-12T10:25:45.755393",
     "exception": false,
     "start_time": "2021-11-12T10:25:45.715253",
     "status": "completed"
    },
    "tags": []
   },
   "outputs": [],
   "source": [
    "# Setting up the model\n",
    "\n",
    "from keras import layers\n",
    "from keras.models import Sequential\n",
    "\n",
    "def setup_lstm_model(max_len, n_latent_factors):\n",
    "    \n",
    "    model = Sequential()\n",
    "    model.add(layers.Embedding(num_words, n_latent_factors, weights = [embedding_matrix], \n",
    "                               input_length = max_len, trainable = False))\n",
    "    model.add(layers.LSTM(units = max_len, return_sequences = True))\n",
    "    model.add(layers.GlobalAveragePooling1D())\n",
    "    model.add(layers.Dense(units = 5, activation = 'sigmoid'))\n",
    "    \n",
    "    return model"
   ]
  },
  {
   "cell_type": "code",
   "execution_count": 23,
   "id": "checked-blowing",
   "metadata": {
    "execution": {
     "iopub.execute_input": "2021-11-12T10:25:45.822066Z",
     "iopub.status.busy": "2021-11-12T10:25:45.821525Z",
     "iopub.status.idle": "2021-11-12T10:25:48.715174Z",
     "shell.execute_reply": "2021-11-12T10:25:48.715902Z",
     "shell.execute_reply.started": "2021-11-12T09:59:15.035848Z"
    },
    "papermill": {
     "duration": 2.929126,
     "end_time": "2021-11-12T10:25:48.716065",
     "exception": false,
     "start_time": "2021-11-12T10:25:45.786939",
     "status": "completed"
    },
    "tags": []
   },
   "outputs": [
    {
     "name": "stdout",
     "output_type": "stream",
     "text": [
      "Model: \"sequential\"\n",
      "_________________________________________________________________\n",
      "Layer (type)                 Output Shape              Param #   \n",
      "=================================================================\n",
      "embedding (Embedding)        (None, 18, 300)           40753500  \n",
      "_________________________________________________________________\n",
      "lstm (LSTM)                  (None, 18, 18)            22968     \n",
      "_________________________________________________________________\n",
      "global_average_pooling1d (Gl (None, 18)                0         \n",
      "_________________________________________________________________\n",
      "dense (Dense)                (None, 5)                 95        \n",
      "=================================================================\n",
      "Total params: 40,776,563\n",
      "Trainable params: 23,063\n",
      "Non-trainable params: 40,753,500\n",
      "_________________________________________________________________\n"
     ]
    }
   ],
   "source": [
    "lstm_model = setup_lstm_model(max_len = max_len, n_latent_factors = 300)\n",
    "lstm_model.summary()"
   ]
  },
  {
   "cell_type": "code",
   "execution_count": 24,
   "id": "stretch-velvet",
   "metadata": {
    "execution": {
     "iopub.execute_input": "2021-11-12T10:25:48.792470Z",
     "iopub.status.busy": "2021-11-12T10:25:48.791682Z",
     "iopub.status.idle": "2021-11-12T10:26:44.603103Z",
     "shell.execute_reply": "2021-11-12T10:26:44.602553Z",
     "shell.execute_reply.started": "2021-11-12T09:59:49.761927Z"
    },
    "papermill": {
     "duration": 55.85423,
     "end_time": "2021-11-12T10:26:44.603251",
     "exception": false,
     "start_time": "2021-11-12T10:25:48.749021",
     "status": "completed"
    },
    "tags": []
   },
   "outputs": [
    {
     "name": "stdout",
     "output_type": "stream",
     "text": [
      "Epoch 1/10\n",
      "903/903 [==============================] - 9s 6ms/step - loss: 0.2914 - accuracy: 0.7413 - val_loss: 0.1951 - val_accuracy: 0.7577\n",
      "Epoch 2/10\n",
      "903/903 [==============================] - 5s 6ms/step - loss: 0.1886 - accuracy: 0.7582 - val_loss: 0.1806 - val_accuracy: 0.7675\n",
      "Epoch 3/10\n",
      "903/903 [==============================] - 5s 6ms/step - loss: 0.1777 - accuracy: 0.7680 - val_loss: 0.1750 - val_accuracy: 0.7719\n",
      "Epoch 4/10\n",
      "903/903 [==============================] - 5s 6ms/step - loss: 0.1712 - accuracy: 0.7757 - val_loss: 0.1731 - val_accuracy: 0.7768\n",
      "Epoch 5/10\n",
      "903/903 [==============================] - 5s 5ms/step - loss: 0.1685 - accuracy: 0.7741 - val_loss: 0.1710 - val_accuracy: 0.7788\n",
      "Epoch 6/10\n",
      "903/903 [==============================] - 5s 6ms/step - loss: 0.1641 - accuracy: 0.7793 - val_loss: 0.1708 - val_accuracy: 0.7746\n",
      "Epoch 7/10\n",
      "903/903 [==============================] - 5s 6ms/step - loss: 0.1647 - accuracy: 0.7778 - val_loss: 0.1692 - val_accuracy: 0.7778\n",
      "Epoch 8/10\n",
      "903/903 [==============================] - 5s 6ms/step - loss: 0.1615 - accuracy: 0.7778 - val_loss: 0.1690 - val_accuracy: 0.7774\n",
      "Epoch 9/10\n",
      "903/903 [==============================] - 6s 6ms/step - loss: 0.1586 - accuracy: 0.7819 - val_loss: 0.1686 - val_accuracy: 0.7807\n",
      "Epoch 10/10\n",
      "903/903 [==============================] - 5s 5ms/step - loss: 0.1588 - accuracy: 0.7793 - val_loss: 0.1684 - val_accuracy: 0.7805\n"
     ]
    },
    {
     "data": {
      "text/plain": [
       "<tensorflow.python.keras.callbacks.History at 0x7f6d53635b50>"
      ]
     },
     "execution_count": 24,
     "metadata": {},
     "output_type": "execute_result"
    }
   ],
   "source": [
    "# Final hyperparameter configurations\n",
    "lstm_model.compile(optimizer = 'adam', loss = 'binary_crossentropy',metrics=['accuracy'])\n",
    "\n",
    "batch_size = 128\n",
    "epochs = 10\n",
    "\n",
    "lstm_model.fit(X_train_seq, y_train, epochs=epochs, batch_size = batch_size, validation_data = (X_val_seq, y_val))"
   ]
  },
  {
   "cell_type": "code",
   "execution_count": 25,
   "id": "brave-security",
   "metadata": {
    "execution": {
     "iopub.execute_input": "2021-11-12T10:26:45.117542Z",
     "iopub.status.busy": "2021-11-12T10:26:45.116994Z",
     "iopub.status.idle": "2021-11-12T10:26:45.123175Z",
     "shell.execute_reply": "2021-11-12T10:26:45.122685Z",
     "shell.execute_reply.started": "2021-11-12T10:03:43.766845Z"
    },
    "papermill": {
     "duration": 0.268392,
     "end_time": "2021-11-12T10:26:45.123307",
     "exception": false,
     "start_time": "2021-11-12T10:26:44.854915",
     "status": "completed"
    },
    "tags": []
   },
   "outputs": [
    {
     "data": {
      "text/plain": [
       "{'loss': [0.2334926426410675,\n",
       "  0.18591609597206116,\n",
       "  0.1763233244419098,\n",
       "  0.1711207777261734,\n",
       "  0.16792897880077362,\n",
       "  0.16552188992500305,\n",
       "  0.16365863382816315,\n",
       "  0.16187366843223572,\n",
       "  0.16035190224647522,\n",
       "  0.15912434458732605],\n",
       " 'accuracy': [0.7527951598167419,\n",
       "  0.760944664478302,\n",
       "  0.7688690423965454,\n",
       "  0.7742211818695068,\n",
       "  0.7753557562828064,\n",
       "  0.7767153978347778,\n",
       "  0.777624785900116,\n",
       "  0.7783089280128479,\n",
       "  0.779287576675415,\n",
       "  0.779642641544342],\n",
       " 'val_loss': [0.19510747492313385,\n",
       "  0.18056510388851166,\n",
       "  0.17504994571208954,\n",
       "  0.17313523590564728,\n",
       "  0.1710079163312912,\n",
       "  0.17080220580101013,\n",
       "  0.16923269629478455,\n",
       "  0.16901905834674835,\n",
       "  0.16861426830291748,\n",
       "  0.16840717196464539],\n",
       " 'val_accuracy': [0.7577164173126221,\n",
       "  0.7674853801727295,\n",
       "  0.7718502283096313,\n",
       "  0.7768039703369141,\n",
       "  0.7788131833076477,\n",
       "  0.7746215462684631,\n",
       "  0.7778085470199585,\n",
       "  0.7774274945259094,\n",
       "  0.7807184457778931,\n",
       "  0.7805452346801758]}"
      ]
     },
     "execution_count": 25,
     "metadata": {},
     "output_type": "execute_result"
    }
   ],
   "source": [
    "lstm_model.history.history"
   ]
  },
  {
   "cell_type": "code",
   "execution_count": 26,
   "id": "systematic-projection",
   "metadata": {
    "execution": {
     "iopub.execute_input": "2021-11-12T10:26:45.654138Z",
     "iopub.status.busy": "2021-11-12T10:26:45.653211Z",
     "iopub.status.idle": "2021-11-12T10:26:45.780485Z",
     "shell.execute_reply": "2021-11-12T10:26:45.780040Z",
     "shell.execute_reply.started": "2021-11-12T10:04:25.795613Z"
    },
    "papermill": {
     "duration": 0.402486,
     "end_time": "2021-11-12T10:26:45.780632",
     "exception": false,
     "start_time": "2021-11-12T10:26:45.378146",
     "status": "completed"
    },
    "tags": []
   },
   "outputs": [
    {
     "data": {
      "image/png": "[encoded data removed]",
      "text/plain": [
       "<Figure size 432x288 with 1 Axes>"
      ]
     },
     "metadata": {
      "needs_background": "light"
     },
     "output_type": "display_data"
    },
    {
     "name": "stdout",
     "output_type": "stream",
     "text": [
      "Training Accuracy is  : 0.779642641544342\n",
      "Validation Accuracy is: 0.7807184457778931\n"
     ]
    }
   ],
   "source": [
    "# accuracies\n",
    "plt.plot(lstm_model.history.history['accuracy'], label='acc')\n",
    "plt.plot(lstm_model.history.history['val_accuracy'], label='val_acc')\n",
    "plt.legend()\n",
    "plt.show()\n",
    "\n",
    "print(\"Training Accuracy is  :\",max(lstm_model.history.history['accuracy']))\n",
    "print(\"Validation Accuracy is:\",max(lstm_model.history.history['val_accuracy']))"
   ]
  },
  {
   "cell_type": "code",
   "execution_count": 27,
   "id": "cutting-experience",
   "metadata": {
    "execution": {
     "iopub.execute_input": "2021-11-12T10:26:46.292223Z",
     "iopub.status.busy": "2021-11-12T10:26:46.291658Z",
     "iopub.status.idle": "2021-11-12T10:26:46.295815Z",
     "shell.execute_reply": "2021-11-12T10:26:46.296299Z",
     "shell.execute_reply.started": "2021-11-12T09:26:06.622003Z"
    },
    "papermill": {
     "duration": 0.260132,
     "end_time": "2021-11-12T10:26:46.296450",
     "exception": false,
     "start_time": "2021-11-12T10:26:46.036318",
     "status": "completed"
    },
    "tags": []
   },
   "outputs": [],
   "source": [
    "#from sklearn import metrics\n",
    "#predictions = lstm_model.predict(X_val_seq)\n",
    "#print(metrics.classification_report(y_val,predictions))"
   ]
  },
  {
   "cell_type": "markdown",
   "id": "sustainable-format",
   "metadata": {
    "papermill": {
     "duration": 0.383307,
     "end_time": "2021-11-12T10:26:47.159351",
     "exception": false,
     "start_time": "2021-11-12T10:26:46.776044",
     "status": "completed"
    },
    "tags": []
   },
   "source": [
    "## GRU"
   ]
  },
  {
   "cell_type": "code",
   "execution_count": 28,
   "id": "anticipated-anime",
   "metadata": {
    "execution": {
     "iopub.execute_input": "2021-11-12T10:26:47.728998Z",
     "iopub.status.busy": "2021-11-12T10:26:47.728336Z",
     "iopub.status.idle": "2021-11-12T10:26:47.732030Z",
     "shell.execute_reply": "2021-11-12T10:26:47.732650Z",
     "shell.execute_reply.started": "2021-11-12T10:05:31.853357Z"
    },
    "papermill": {
     "duration": 0.287885,
     "end_time": "2021-11-12T10:26:47.732800",
     "exception": false,
     "start_time": "2021-11-12T10:26:47.444915",
     "status": "completed"
    },
    "tags": []
   },
   "outputs": [],
   "source": [
    "def setup_gru_model(max_len, n_latent_factors):\n",
    "    \n",
    "    model = Sequential()\n",
    "    model.add(layers.Embedding(num_words, n_latent_factors, weights = [embedding_matrix], \n",
    "                               input_length = max_len, trainable = False))\n",
    "    model.add(layers.GRU(units = max_len, return_sequences = True))\n",
    "    model.add(layers.GlobalAveragePooling1D())\n",
    "    model.add(layers.Dense(units = 5, activation = 'sigmoid'))\n",
    "    \n",
    "    return model"
   ]
  },
  {
   "cell_type": "code",
   "execution_count": 29,
   "id": "unusual-shepherd",
   "metadata": {
    "execution": {
     "iopub.execute_input": "2021-11-12T10:26:48.294875Z",
     "iopub.status.busy": "2021-11-12T10:26:48.293990Z",
     "iopub.status.idle": "2021-11-12T10:26:49.166017Z",
     "shell.execute_reply": "2021-11-12T10:26:49.166481Z",
     "shell.execute_reply.started": "2021-11-12T10:05:36.441024Z"
    },
    "papermill": {
     "duration": 1.15596,
     "end_time": "2021-11-12T10:26:49.166656",
     "exception": false,
     "start_time": "2021-11-12T10:26:48.010696",
     "status": "completed"
    },
    "tags": []
   },
   "outputs": [
    {
     "name": "stdout",
     "output_type": "stream",
     "text": [
      "Model: \"sequential_1\"\n",
      "_________________________________________________________________\n",
      "Layer (type)                 Output Shape              Param #   \n",
      "=================================================================\n",
      "embedding_1 (Embedding)      (None, 18, 300)           40753500  \n",
      "_________________________________________________________________\n",
      "gru (GRU)                    (None, 18, 18)            17280     \n",
      "_________________________________________________________________\n",
      "global_average_pooling1d_1 ( (None, 18)                0         \n",
      "_________________________________________________________________\n",
      "dense_1 (Dense)              (None, 5)                 95        \n",
      "=================================================================\n",
      "Total params: 40,770,875\n",
      "Trainable params: 17,375\n",
      "Non-trainable params: 40,753,500\n",
      "_________________________________________________________________\n"
     ]
    }
   ],
   "source": [
    "gru_model = setup_gru_model(max_len = max_len, n_latent_factors = 300)\n",
    "gru_model.summary()"
   ]
  },
  {
   "cell_type": "code",
   "execution_count": 30,
   "id": "western-century",
   "metadata": {
    "execution": {
     "iopub.execute_input": "2021-11-12T10:26:49.689368Z",
     "iopub.status.busy": "2021-11-12T10:26:49.688560Z",
     "iopub.status.idle": "2021-11-12T10:27:40.406587Z",
     "shell.execute_reply": "2021-11-12T10:27:40.406124Z",
     "shell.execute_reply.started": "2021-11-12T10:06:32.809818Z"
    },
    "papermill": {
     "duration": 50.987095,
     "end_time": "2021-11-12T10:27:40.406744",
     "exception": false,
     "start_time": "2021-11-12T10:26:49.419649",
     "status": "completed"
    },
    "tags": []
   },
   "outputs": [
    {
     "name": "stdout",
     "output_type": "stream",
     "text": [
      "Epoch 1/10\n",
      "903/903 [==============================] - 6s 6ms/step - loss: 0.3122 - accuracy: 0.7328 - val_loss: 0.1966 - val_accuracy: 0.7615\n",
      "Epoch 2/10\n",
      "903/903 [==============================] - 5s 6ms/step - loss: 0.1898 - accuracy: 0.7603 - val_loss: 0.1792 - val_accuracy: 0.7691\n",
      "Epoch 3/10\n",
      "903/903 [==============================] - 5s 5ms/step - loss: 0.1752 - accuracy: 0.7688 - val_loss: 0.1747 - val_accuracy: 0.7752\n",
      "Epoch 4/10\n",
      "903/903 [==============================] - 5s 6ms/step - loss: 0.1706 - accuracy: 0.7739 - val_loss: 0.1731 - val_accuracy: 0.7786\n",
      "Epoch 5/10\n",
      "903/903 [==============================] - 5s 6ms/step - loss: 0.1681 - accuracy: 0.7756 - val_loss: 0.1708 - val_accuracy: 0.7787\n",
      "Epoch 6/10\n",
      "903/903 [==============================] - 5s 6ms/step - loss: 0.1635 - accuracy: 0.7782 - val_loss: 0.1685 - val_accuracy: 0.7790\n",
      "Epoch 7/10\n",
      "903/903 [==============================] - 5s 5ms/step - loss: 0.1625 - accuracy: 0.7798 - val_loss: 0.1683 - val_accuracy: 0.7827\n",
      "Epoch 8/10\n",
      "903/903 [==============================] - 5s 6ms/step - loss: 0.1626 - accuracy: 0.7775 - val_loss: 0.1673 - val_accuracy: 0.7815\n",
      "Epoch 9/10\n",
      "903/903 [==============================] - 5s 5ms/step - loss: 0.1590 - accuracy: 0.7803 - val_loss: 0.1672 - val_accuracy: 0.7817\n",
      "Epoch 10/10\n",
      "903/903 [==============================] - 5s 5ms/step - loss: 0.1590 - accuracy: 0.7806 - val_loss: 0.1668 - val_accuracy: 0.7831\n"
     ]
    },
    {
     "data": {
      "text/plain": [
       "<tensorflow.python.keras.callbacks.History at 0x7f6d52078990>"
      ]
     },
     "execution_count": 30,
     "metadata": {},
     "output_type": "execute_result"
    }
   ],
   "source": [
    "# Final hyperparameter configurations and fitting\n",
    "gru_model.compile(optimizer = 'adam', loss = 'binary_crossentropy',metrics=['accuracy'])\n",
    "\n",
    "batch_size = 128\n",
    "epochs = 10\n",
    "\n",
    "gru_model.fit(X_train_seq, y_train, epochs=epochs, batch_size = batch_size, validation_data = (X_val_seq, y_val))"
   ]
  },
  {
   "cell_type": "code",
   "execution_count": 31,
   "id": "graduate-lindsay",
   "metadata": {
    "execution": {
     "iopub.execute_input": "2021-11-12T10:27:41.528643Z",
     "iopub.status.busy": "2021-11-12T10:27:41.527812Z",
     "iopub.status.idle": "2021-11-12T10:27:41.717207Z",
     "shell.execute_reply": "2021-11-12T10:27:41.718171Z",
     "shell.execute_reply.started": "2021-11-12T10:07:48.137904Z"
    },
    "papermill": {
     "duration": 0.797928,
     "end_time": "2021-11-12T10:27:41.718371",
     "exception": false,
     "start_time": "2021-11-12T10:27:40.920443",
     "status": "completed"
    },
    "tags": []
   },
   "outputs": [
    {
     "data": {
      "image/png": "[encoded data removed]",
      "text/plain": [
       "<Figure size 432x288 with 1 Axes>"
      ]
     },
     "metadata": {
      "needs_background": "light"
     },
     "output_type": "display_data"
    },
    {
     "name": "stdout",
     "output_type": "stream",
     "text": [
      "Training Accuracy is  : 0.7813141345977783\n",
      "Validation Accuracy is: 0.7831087112426758\n"
     ]
    }
   ],
   "source": [
    "# accuracies\n",
    "plt.plot(gru_model.history.history['accuracy'], label='acc')\n",
    "plt.plot(gru_model.history.history['val_accuracy'], label='val_acc')\n",
    "plt.legend()\n",
    "plt.show()\n",
    "\n",
    "print(\"Training Accuracy is  :\",max(gru_model.history.history['accuracy']))\n",
    "print(\"Validation Accuracy is:\",max(gru_model.history.history['val_accuracy']))"
   ]
  },
  {
   "cell_type": "code",
   "execution_count": null,
   "id": "immune-ultimate",
   "metadata": {
    "papermill": {
     "duration": 0.45957,
     "end_time": "2021-11-12T10:27:42.709095",
     "exception": false,
     "start_time": "2021-11-12T10:27:42.249525",
     "status": "completed"
    },
    "tags": []
   },
   "outputs": [],
   "source": []
  }
 ],
 "metadata": {
  "kernelspec": {
   "display_name": "Python 3",
   "language": "python",
   "name": "python3"
  },
  "language_info": {
   "codemirror_mode": {
    "name": "ipython",
    "version": 3
   },
   "file_extension": ".py",
   "mimetype": "text/x-python",
   "name": "python",
   "nbconvert_exporter": "python",
   "pygments_lexer": "ipython3",
   "version": "3.7.10"
  },
  "papermill": {
   "default_parameters": {},
   "duration": 255.70144,
   "end_time": "2021-11-12T10:27:45.980309",
   "environment_variables": {},
   "exception": null,
   "input_path": "__notebook__.ipynb",
   "output_path": "__notebook__.ipynb",
   "parameters": {},
   "start_time": "2021-11-12T10:23:30.278869",
   "version": "2.3.3"
  }
 },
 "nbformat": 4,
 "nbformat_minor": 5
}
